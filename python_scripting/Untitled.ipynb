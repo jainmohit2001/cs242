{
 "cells": [
  {
   "cell_type": "code",
   "execution_count": 12,
   "metadata": {},
   "outputs": [
    {
     "name": "stdout",
     "output_type": "stream",
     "text": [
      "!\"#$%&'()*+,-./:;<=>?@[\\]^_`{|}~\n",
      "hello.txt\n",
      "hello\n",
      "welcome\n",
      "to\n",
      "area\n",
      "51\n"
     ]
    },
    {
     "data": {
      "text/plain": [
       "['hello', 'welcome', 'to', 'area', '51']"
      ]
     },
     "execution_count": 12,
     "metadata": {},
     "output_type": "execute_result"
    }
   ],
   "source": [
    "import string\n",
    "print(string.punctuation)\n",
    "def read_and_parse(f1):\n",
    "    words = []\n",
    "    file = open(f1,'r')\n",
    "    f = file.readlines()\n",
    "    file.close()\n",
    "    for line in f:\n",
    "        l = line.split()\n",
    "        length = len(string.punctuation)\n",
    "        for word in l:\n",
    "            w = word.lower()\n",
    "            for j in range(length):\n",
    "                w = w.replace(string.punctuation[j],'')\n",
    "            print(w.lower())    \n",
    "            words.append(w.lower())\n",
    "    return words\n",
    "\n",
    "\n",
    "f = input()\n",
    "read_and_parse(f)"
   ]
  },
  {
   "cell_type": "code",
   "execution_count": null,
   "metadata": {},
   "outputs": [],
   "source": []
  }
 ],
 "metadata": {
  "kernelspec": {
   "display_name": "Python 3",
   "language": "python",
   "name": "python3"
  },
  "language_info": {
   "codemirror_mode": {
    "name": "ipython",
    "version": 3
   },
   "file_extension": ".py",
   "mimetype": "text/x-python",
   "name": "python",
   "nbconvert_exporter": "python",
   "pygments_lexer": "ipython3",
   "version": "3.6.8"
  }
 },
 "nbformat": 4,
 "nbformat_minor": 2
}
