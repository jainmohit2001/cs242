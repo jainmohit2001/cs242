{
 "cells": [
  {
   "cell_type": "code",
   "execution_count": 1,
   "metadata": {},
   "outputs": [
    {
     "name": "stdout",
     "output_type": "stream",
     "text": [
      "4186.666666666667\n"
     ]
    }
   ],
   "source": [
    "r=10\n",
    "pi = 3.14\n",
    "volume = (4/3)*pi*r*r*r\n",
    "print (volume)"
   ]
  },
  {
   "cell_type": "code",
   "execution_count": null,
   "metadata": {},
   "outputs": [],
   "source": [
    "def add(a,b):\n",
    "    return a+b\n",
    "def sub(a,b):\n",
    "    return a-b\n",
    "def mult(a,b):\n",
    "    return a*b\n",
    "def power(a,b):\n",
    "    return pow(a,b)\n",
    "def div(a,b):\n",
    "    return a/b\n",
    "\n",
    "def cal(d,a,b):\n",
    "    return d(a,b)\n",
    "\n",
    "cal(power,5,10)"
   ]
  },
  {
   "cell_type": "code",
   "execution_count": 5,
   "metadata": {},
   "outputs": [
    {
     "name": "stdout",
     "output_type": "stream",
     "text": [
      "4\n",
      "4\n",
      "4\n"
     ]
    },
    {
     "data": {
      "text/plain": [
       "'YES'"
      ]
     },
     "execution_count": 5,
     "metadata": {},
     "output_type": "execute_result"
    }
   ],
   "source": [
    "def is_triangle(a,b,c):\n",
    "    if a+b>=c and b+c>=a and a+b>=c:\n",
    "        return \"YES\"\n",
    "    else:\n",
    "        return \"NO\"\n",
    "\n",
    "a = int(input())\n",
    "b = int(input())\n",
    "c = int(input())\n",
    "\n",
    "is_triangle(a,b,c)"
   ]
  },
  {
   "cell_type": "code",
   "execution_count": 1,
   "metadata": {},
   "outputs": [
    {
     "name": "stdout",
     "output_type": "stream",
     "text": [
      "5\n",
      "1 1 2 3 5 "
     ]
    },
    {
     "data": {
      "text/plain": [
       "5"
      ]
     },
     "execution_count": 1,
     "metadata": {},
     "output_type": "execute_result"
    }
   ],
   "source": [
    "\n",
    "def f(n):\n",
    "    if n == 1 or n == 2:\n",
    "        return 1\n",
    "    return  f(n-1) + f(n-2)\n",
    "        \n",
    "n = int(input())\n",
    "for i in range(1,n+1):\n",
    "    print (f(i), end=\" \")\n",
    "f(n)"
   ]
  },
  {
   "cell_type": "code",
   "execution_count": 27,
   "metadata": {},
   "outputs": [
    {
     "name": "stdout",
     "output_type": "stream",
     "text": [
      "3.1415926535897936\n",
      "3.141592653589793\n"
     ]
    }
   ],
   "source": [
    "import math\n",
    "const = 2*math.sqrt(2)/9801\n",
    "k = 0\n",
    "s = 0\n",
    "var = pow(10,-15)\n",
    "while 1:\n",
    "    temp = const*math.factorial(4*k)*(1103 + 26390*k)/(pow(math.factorial(k),4)*pow(396,4*k))\n",
    "    if temp<var :\n",
    "        break\n",
    "    s = s+ temp\n",
    "    k = k+1\n",
    "\n",
    "print (1/s)\n",
    "print(math.pi)"
   ]
  },
  {
   "cell_type": "code",
   "execution_count": 5,
   "metadata": {},
   "outputs": [
    {
     "name": "stdout",
     "output_type": "stream",
     "text": [
      "abcd\n",
      "dcba\n"
     ]
    }
   ],
   "source": [
    "def my_reverse(s):\n",
    "    rev_s = ''\n",
    "    for i in s:\n",
    "        rev_s = i + rev_s\n",
    "    print (rev_s) \n",
    "\n",
    "s = input()    \n",
    "my_reverse(s)    "
   ]
  },
  {
   "cell_type": "code",
   "execution_count": 2,
   "metadata": {},
   "outputs": [
    {
     "name": "stdout",
     "output_type": "stream",
     "text": [
      "ababaaaa\n",
      "3\n",
      "a\n"
     ]
    },
    {
     "data": {
      "text/plain": [
       "(4, [4, 5, 6, 7])"
      ]
     },
     "execution_count": 2,
     "metadata": {},
     "output_type": "execute_result"
    }
   ],
   "source": [
    "def find_count(s, index, elem):\n",
    "    l = len(s)\n",
    "    k=0\n",
    "    arr = []\n",
    "    for i in range(index+1,l):\n",
    "        if elem == s[i]:\n",
    "            arr.append(i)\n",
    "            k = k +1\n",
    "    return k,arr         \n",
    "s = input()\n",
    "p = int(input())\n",
    "elem = input()\n",
    "find_count(s,p,elem)"
   ]
  },
  {
   "cell_type": "code",
   "execution_count": 3,
   "metadata": {},
   "outputs": [
    {
     "name": "stdout",
     "output_type": "stream",
     "text": [
      "1 2 5 43 43\n",
      "[1, 3, 8, 51, 94]\n"
     ]
    }
   ],
   "source": [
    "arr = [int(i) for i in input().split()]\n",
    "s = []\n",
    "s.append(arr[0])\n",
    "\n",
    "for j in range(1,len(arr)):\n",
    "    s.append(s[j-1] + arr[j])\n",
    "    \n",
    "print (s)    "
   ]
  },
  {
   "cell_type": "code",
   "execution_count": 4,
   "metadata": {},
   "outputs": [
    {
     "name": "stdout",
     "output_type": "stream",
     "text": [
      "gregr\n",
      "ttyryrt\n"
     ]
    },
    {
     "data": {
      "text/plain": [
       "False"
      ]
     },
     "execution_count": 4,
     "metadata": {},
     "output_type": "execute_result"
    }
   ],
   "source": [
    "def is_anagram(s1,s2):\n",
    "    if len(s1) != len(s2):\n",
    "        return False\n",
    "    else: \n",
    "        arr = []\n",
    "        for i in range(26):\n",
    "            arr.append(0)\n",
    "        for i in s1:\n",
    "            arr[ord(i)-ord('a')] +=1\n",
    "        for i in s2:\n",
    "            arr[ord(i)-ord('a')] -=1\n",
    "            \n",
    "        for i in range(26):\n",
    "            if arr[i] != 0:\n",
    "                return False\n",
    "        return True    \n",
    "s1 = input()\n",
    "s2 = input()\n",
    "is_anagram(s1,s2)"
   ]
  },
  {
   "cell_type": "code",
   "execution_count": 9,
   "metadata": {},
   "outputs": [
    {
     "name": "stdout",
     "output_type": "stream",
     "text": [
      "kjkjo\n",
      "{'kjkjo': {'k': 2, 'j': 2, 'o': 1}}\n"
     ]
    }
   ],
   "source": [
    "Dic = {}\n",
    "\n",
    "def frq(s):\n",
    "    dic = {}\n",
    "    for i in s:\n",
    "        dic[i] = dic.get(i,0) + 1\n",
    "    Dic[s] = dic\n",
    "    print (Dic)\n",
    "\n",
    "s = input()\n",
    "frq(s)"
   ]
  },
  {
   "cell_type": "code",
   "execution_count": 56,
   "metadata": {},
   "outputs": [
    {
     "name": "stdout",
     "output_type": "stream",
     "text": [
      "{'Hello': {'H': 1, 'e': 1, 'l': 2, 'o': 1}, 'Welcome': {'W': 1, 'e': 2, 'l': 1, 'c': 1, 'o': 1, 'm': 1}, 'to': {'t': 1, 'o': 1}, 'area': {'a': 2, 'r': 1, 'e': 1}, '51.': {'5': 1, '1': 1, '.': 1}}\n",
      "True\n"
     ]
    }
   ],
   "source": [
    "import pickle\n",
    "Dic = {}\n",
    "\n",
    "def frq(s):\n",
    "    dic = {}\n",
    "    for i in s:\n",
    "        dic[i] = dic.get(i,0) +1\n",
    "    Dic[s] = dic\n",
    "    \n",
    "    \n",
    "f = open('hello.txt',\"r\")\n",
    "if f.mode == 'r':\n",
    "    #contents = f.read()\n",
    "    f1 = f.read()\n",
    "    f1 = f1.split()\n",
    "    for i in f1:\n",
    "        frq(i)\n",
    "        \n",
    "    print (Dic)\n",
    "    \n",
    "# Store data (serialize)\n",
    "with open('Dic.pickle', 'wb') as handle:\n",
    "    pickle.dump(Dic, handle, protocol=pickle.HIGHEST_PROTOCOL)\n",
    "\n",
    "with open('Dic.pickle', 'rb') as handle:\n",
    "    b = pickle.load(handle)\n",
    "\n",
    "print (Dic == b)  "
   ]
  },
  {
   "cell_type": "code",
   "execution_count": 11,
   "metadata": {},
   "outputs": [
    {
     "name": "stdout",
     "output_type": "stream",
     "text": [
      "['irresponsibilities', 'autobiographical', 'multimillionaire', 'distinguishable', 'intrusivenesses', 'unquantifiable', 'brotherliness', 'impracticable', 'jurisprudence', 'preauthorize', 'assimilates', 'compulsions', 'disannulled', 'herpetology', 'indignantly', 'opprobriums', 'subconcepts', 'billowiest', 'censorship', 'changeable', 'coassisted', 'discovered', 'disordered', 'emblematic', 'greatening', 'monopodies', 'outdressed', 'protending', 'retightens', 'sapsuckers', 'skylarking', 'solenesses', 'unreasoned', 'upchucking', 'venosities', 'botanises', 'capeworks', 'crossbows', 'demanders', 'doorstops', 'economics', 'exospores', 'expelling', 'farewells', 'flattened', 'footbaths', 'highroads', 'inlanders', 'iodoforms', 'localised', 'officious', 'outhumors', 'precented', 'prelected', 'quiltings', 'reanalyze', 'snapweeds', 'supported', 'tunnelled', 'alizarin', 'angulate', 'bendways', 'bifidity', 'bigamous', 'caballed', 'contexts', 'cowhages', 'crispest', 'desirous', 'diplosis', 'drowsing', 'emanator', 'exorcist', 'foresail', 'graphics', 'hachured', 'heredity', 'isoprene', 'kampongs', 'kinetics', 'mindless', 'misenrol', 'palmated', 'pedately', 'plummier', 'prigging', 'psyllids', 'rampions', 'ransomer', 'sautoire', 'scarfpin', 'sharpies', 'shrewish', 'signiori', 'skijorer', 'snubbier', 'synovias', 'tamandua', 'tithings', 'turmoils', 'unbreech', 'wardrobe', 'waxweeds', 'airline', 'berried', 'bezoars', 'brought', 'bugling', 'bussing', 'cajuput', 'cembali', 'cogways', 'cuisses', 'dallied', 'dashers', 'delates', 'dreamer', 'ephoral', 'filaree', 'foolery', 'furtive', 'garnish', 'godhood', 'grimily', 'gyrally', 'heroize', 'lappets', 'letting', 'maggots', 'medleys', 'misshod', 'mopokes', 'pokiest', 'queenly', 'rigours', 'sangars', 'sprites', 'thumbed', 'typhons', 'umbrage', 'valance', 'victims', 'warmers', 'wastrel', 'wotteth', 'bourgs', 'carman', 'cobble', 'curiae', 'durned', 'empire', 'exhume', 'exults', 'gramme', 'hamlet', 'limina', 'lollop', 'mammal', 'milord', 'mosaic', 'ochrea', 'passed', 'pipets', 'punker', 'rankly', 'scribe', 'sobeit', 'solons', 'toeing', 'zaffre', 'baler', 'bluer', 'cloth', 'dorms', 'fauld', 'flams', 'nasty', 'neaps', 'pomps', 'slang', 'slant', 'title', 'tyees', 'venue', 'verge', 'wilts', 'airt', 'auks', 'boot', 'cads', 'dirk', 'eras', 'holy', 'moms', 'obey', 'play', 'read', 'tahr', 'veld', 'tan']\n"
     ]
    }
   ],
   "source": [
    "import random\n",
    "with open('words.txt') as f:\n",
    "    lines = f.read()\n",
    "    lines = lines.split()\n",
    "    lines = random.sample(lines,200)\n",
    "    \n",
    "lines.sort()\n",
    "lines.sort(key=len,reverse=True)\n",
    "print(lines)\n",
    "f.close()\n",
    "f1 = open(\"words_200.txt\", \"w\")\n",
    "\n",
    "for i in lines:\n",
    "    f1.write(i +'\\n')\n",
    "f1.close()    "
   ]
  },
  {
   "cell_type": "code",
   "execution_count": 13,
   "metadata": {},
   "outputs": [
    {
     "name": "stdout",
     "output_type": "stream",
     "text": [
      "/home/mohit/cs242/python_scripting/hello.txt\n",
      "/home/mohit/cs242/python_scripting/words.txt\n",
      "/home/mohit/cs242/python_scripting/python_prog.py\n",
      "/home/mohit/cs242/python_scripting/ls.txt\n",
      "/home/mohit/cs242/python_scripting/Python Programming.pdf\n",
      "/home/mohit/cs242/python_scripting/cmd.py\n",
      "/home/mohit/cs242/python_scripting/words_200.txt\n",
      "/home/mohit/cs242/python_scripting/python-basics.ipynb\n",
      "/home/mohit/cs242/python_scripting/Python Practice Exercise.pdf\n",
      "/home/mohit/cs242/python_scripting/python_prog.ipynb\n",
      "/home/mohit/cs242/python_scripting/Untitled.ipynb\n",
      "/home/mohit/cs242/python_scripting/script.py\n",
      "/home/mohit/cs242/python_scripting/.ipynb_checkpoints/Untitled-checkpoint.ipynb\n",
      "/home/mohit/cs242/python_scripting/.ipynb_checkpoints/python_prog-checkpoint.ipynb\n",
      "/home/mohit/cs242/python_scripting/.ipynb_checkpoints/python-basics-checkpoint.ipynb\n"
     ]
    }
   ],
   "source": [
    "import os\n",
    "\n",
    "def get_file_list(path):\n",
    "    file = []\n",
    "\n",
    "    # r=root, d=directories, f = files\n",
    "    for r, d, f in os.walk(path):\n",
    "        for files in f:\n",
    "            file.append(os.path.join(r, files))\n",
    "    for name in file:\n",
    "        print(name)\n",
    "        \n",
    "path = os.getcwd()\n",
    "get_file_list(path)"
   ]
  },
  {
   "cell_type": "code",
   "execution_count": 14,
   "metadata": {
    "scrolled": false
   },
   "outputs": [
    {
     "name": "stdout",
     "output_type": "stream",
     "text": [
      "enter pattern string\n",
      "hi\n",
      "enter replacement string\n",
      "bye\n",
      "enter file name 1\n",
      "f1.txt\n",
      "enter file name 2\n",
      "f3.txt\n"
     ]
    }
   ],
   "source": [
    "import sys\n",
    "\n",
    "def sed(pattern,replace,file1,file2):\n",
    "    f = open(file1,'r')\n",
    "    filedata = f.read()\n",
    "    f.close()\n",
    "\n",
    "    newdata = filedata.replace(pattern,replace)\n",
    "\n",
    "    f = open(file2,'w')\n",
    "    f.write(newdata)\n",
    "    f.close()\n",
    "\n",
    "print (\"enter pattern string\")\n",
    "s = input()\n",
    "print (\"enter replacement string\")\n",
    "r = input()\n",
    "print (\"enter file name 1\")\n",
    "f1 = input()\n",
    "print (\"enter file name 2\")\n",
    "f2 = input()\n",
    "\n",
    "sed(s,r,f1,f2)   \n",
    "\n"
   ]
  },
  {
   "cell_type": "code",
   "execution_count": null,
   "metadata": {},
   "outputs": [],
   "source": []
  }
 ],
 "metadata": {
  "kernelspec": {
   "display_name": "Python 3",
   "language": "python",
   "name": "python3"
  },
  "language_info": {
   "codemirror_mode": {
    "name": "ipython",
    "version": 3
   },
   "file_extension": ".py",
   "mimetype": "text/x-python",
   "name": "python",
   "nbconvert_exporter": "python",
   "pygments_lexer": "ipython3",
   "version": "3.6.8"
  }
 },
 "nbformat": 4,
 "nbformat_minor": 2
}
